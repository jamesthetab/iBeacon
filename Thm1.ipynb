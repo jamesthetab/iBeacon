{
 "cells": [
  {
   "cell_type": "markdown",
   "metadata": {},
   "source": [
    "# How to use this page\n",
    "\n",
    "Theorem of the week is created using the Juyter Project, a typesetting and Coding platform, and hosted on GitHub, cloud storage, which renders the JP page without leaving their site.\n",
    "\n",
    "Download the code, and edit it within the Jupyter Project to get the most out this resource."
   ]
  },
  {
   "cell_type": "code",
   "execution_count": 41,
   "metadata": {
    "collapsed": false
   },
   "outputs": [
    {
     "data": {
      "text/html": [
       "<img src=\"http://goo.gl/qDxHt8\"/>"
      ],
      "text/plain": [
       "<IPython.core.display.Image object>"
      ]
     },
     "execution_count": 41,
     "metadata": {},
     "output_type": "execute_result"
    }
   ],
   "source": [
    "from IPython.display import Image\n",
    "from IPython.core.display import HTML \n",
    "Image(url= \"http://goo.gl/qDxHt8\")"
   ]
  },
  {
   "cell_type": "markdown",
   "metadata": {},
   "source": [
    "# Theorem 1: Bézout’s Theorem"
   ]
  },
  {
   "cell_type": "markdown",
   "metadata": {},
   "source": [
    "Have you come across those problems about measuring out some amount of water using limited equipment?  Here’s an example.\n",
    "\n",
    "I have two buckets.  One, when full, contains $3$ litres, the other $5$ litres.  I have a large quantity of water in the water butt in my garden, and I wish to end up with exactly $17$ litres of this water in my pond.  Is this possible, just using these two buckets to transfer water?  (No part-filled buckets allowed!)\n",
    "\n",
    "\n",
    "It doesn’t take very long to see that it’s possible.  I fill the $3$-litre bucket four times, and the $5$-litre bucket once: $17 = 4\\times 3 + 5$.\n",
    "\n",
    "What if I only wanted $1$ litre in my pond?\n",
    "\n",
    "That’s slightly trickier, but not too hard.  I use the $3$-litre bucket twice, then take out $5$ litres.  In an equation, $1 = 2 \\times 3 - 5$.\n",
    "\n",
    "What would happen if I started with a $3$-litre bucket and a $6$-litre bucket and still wanted to get $1$ litre in my pond?\n",
    "\n",
    "After a bit of experimentation, we might notice that the quantities we can make all seem to be multiples of $3$.  In fact, we can justify that mathematically.  If we add $m$ $3$-litre buckets and $n$ $6$-litre buckets (where $m$ and $n$ are allowed to be negative — we can take water out of the pond), then we get $3m+6n=3(m+2n)$ litres in the pond, and that’s certainly a multiple of $3$.  The problem was that the highest common factor of the capacities was $3$, and that doesn’t divide our target amount (1).\n",
    "\n",
    "What happens if I start with other buckets?  It might be that there’s a fairly obvious reason why we can’t make $1$ litre: if the highest common factor of the capacities of the two measuring buckets is bigger than $1$.  But if I give you two buckets where the highest common factor is $1$, will you necessarily be able to get $1$ litre from them?\n",
    "\n",
    "Let’s translate what we’d like to do into mathematics.   We are given two positive whole numbers, $h$ and $k$, say.  Those are the capacities of the two buckets.  We are told that the highest common factor of $h$ and $k$ is $1$.  Then we’d like to know that there are integers $m$ and $n$ so that $hm+kn=1$.   The equation tells us to transfer $m$ $h$-buckets and $n$ $k$-buckets of water into the pond.  Of course, a negative number of buckets translates into removing water from the pond, so we may have to be careful about the order in which we do things (we need water in the pond before we can start removing water!).  \n",
    "\n",
    "I’ll let you convince yourself that if we can solve the equation (find $m$ and $n$) then it’s possible.\n",
    "\n",
    "It turns out that the answer is that it is possible to solve the equation — that’s what Bezout‘s Theorem tells us.  Better still, we can give a constructive proof.  That is, the proof actually gives us a way to find a water-moving strategy that will give $1$ litre. So by repeating these steps we could get any (positive) whole number volume of water in the pond."
   ]
  },
  {
   "cell_type": "code",
   "execution_count": 12,
   "metadata": {
    "collapsed": false
   },
   "outputs": [
    {
     "data": {
      "text/html": [
       "<img src=\"http://goo.gl/pyscuJ\"/>"
      ],
      "text/plain": [
       "<IPython.core.display.Image object>"
      ]
     },
     "execution_count": 12,
     "metadata": {},
     "output_type": "execute_result"
    }
   ],
   "source": [
    "from IPython.display import Image\n",
    "from IPython.core.display import HTML \n",
    "Image(url= \"http://goo.gl/pyscuJ\")"
   ]
  },
  {
   "cell_type": "markdown",
   "metadata": {},
   "source": [
    "# Finding highest common factors \n",
    "## Euclid’s algorithm"
   ]
  },
  {
   "cell_type": "markdown",
   "metadata": {},
   "source": [
    "Before we get to the proof, let’s think about how we can find the highest common factor of two numbers. \n",
    "One way would be to find and compare the prime factorisations of the two numbers.  That’s fine, but finding prime factorisations can be extremely time-consuming if you’re dealing with large numbers.  Fortunately, there is another way using a tool called Euclid‘s algorithm.  Let’s see how it works by looking at an example.\n",
    "\n",
    "Say that we want to find the highest common factor of $121$ and $44$.  (OK, I know, that’s easy, because they’re small numbers.  So please temporarily forget that it’s easy, and bear with me.  It wouldn’t be as easy if I were using larger numbers!)  It seems to me to be quite natural to try to divide $121$ by $44$.  We get\n",
    "\n",
    "$$121 = 2\\times 44 + 33.$$\n",
    "\n",
    "So $121$ isn’t divisible by $44$.  But if I take a number $d$ that divides $121$ and $44$, then it must also divide the remainder $33$ (because $33 = 121 - 2\\times 44$, if you like).  So any common factor of $121$ and $44$ is also a common factor of $44$ and $33$, and those are smaller numbers.  So let’s play the same game again: divide $44$ by $33$.\n",
    "\n",
    "$$44 = 33 + 11.$$\n",
    "\n",
    "Now let’s try the same thing again: we divide $33$ by $11$.\n",
    "\n",
    "$$33 = 3\\times 11.$$\n",
    "\n",
    "We’d like to use these three equations to show that the highest common factor of $121$ and $44$ is $11$.  Let’s do this in two stages.  First we’ll show that $11$ really is a common factor of $121$ and $44$, and then we’ll show that any common factor of $121$ and $44$ must divide $11$ — that is, $11$ is the highest common factor.  (Of course, this is all very easy with such small numbers, where we could just check directly, but let’s see how these equations do the work for us.)\n",
    "\n",
    "The third equation tells us that $11$ is a factor of $33$.  Then from the second equation we see that, since $11$ divides the right-hand side, $11$ must also divide the left-hand side, $44$.  Now $11$ divides $33$ and $44$, so $11$ divides the right-hand side of the first equation, so $11$ also divides the left-hand side, namely $121$.  We’ve argued that $11$ divides both $121$ and $44$ — it’s a common factor.  That’s the first stage done.\n",
    "\n",
    "Now let’s take any common factor $d$ of $121$ and $44$; we want to show that $d$ is a factor of $11$.  The first equation tells us that $d$ is a factor of $33$.  Then the second equation shows that $d$ is a factor of $11$.  And that’s exactly what we wanted.\n",
    "\n",
    "By working through the equations twice, once from last to first and once from first to second-last, we showed that the highest common factor of $121$ and $44$ is $11$.\n",
    "\n",
    "Let’s do another simple example.  We’ll find the highest common factor of $31$ and $14$, using this same algorithm.\n",
    "\n",
    "$$31 = 2\\times 14 + 3$$\n",
    "\n",
    "$$14 = 4\\times 3 + 2$$\n",
    "\n",
    "$$3 = 2+1$$\n",
    "\n",
    "$$2=2\\times 1$$\n",
    "\n",
    "Using just the same argument as before (working through the equations twice, once from the last to the first and once from the first to the second-last), we see that the highest common factor is $1$.  I’ll let you think about the details."
   ]
  },
  {
   "cell_type": "markdown",
   "metadata": {},
   "source": [
    "Our next task is to code this algorithm. The key is the command $a%b$ which returns the remainder when $a$ is divided by $b$."
   ]
  },
  {
   "cell_type": "code",
   "execution_count": 39,
   "metadata": {
    "collapsed": false
   },
   "outputs": [
    {
     "name": "stdout",
     "output_type": "stream",
     "text": [
      "(121, 44)\n",
      "(44, 33)\n",
      "(33, 11)\n",
      "(11, 0)\n",
      "The HCF is 11\n"
     ]
    }
   ],
   "source": [
    "a=121\n",
    "b=44\n",
    "# Change these starting values as required. The next three lines ensure that a is the bigger number\n",
    "if a<b:\n",
    "    (a,b) = (b,a) # This command swaps the numbers round.\n",
    "# We will now print out pairs of numbers (given by taking remainders) until one of the numbers is zero\n",
    "print(a,b)\n",
    "while b>0:\n",
    "    (a,b) = (b,a%b)\n",
    "    print(a,b)\n",
    "print(\"The HCF is\"), a \n"
   ]
  },
  {
   "cell_type": "markdown",
   "metadata": {},
   "source": [
    "We may illustrate this by including the equations which connect from line to line."
   ]
  },
  {
   "cell_type": "code",
   "execution_count": 40,
   "metadata": {
    "collapsed": false
   },
   "outputs": [
    {
     "name": "stdout",
     "output_type": "stream",
     "text": [
      "(121, 44)\n",
      "There are  2 copies of 44 in 121\n",
      "121 = 2 x 44 + 33\n",
      "(44, 33)\n",
      "There are  1 copies of 33 in 44\n",
      "44 = 1 x 33 + 11\n",
      "(33, 11)\n",
      "There are  3 copies of 11 in 33\n",
      "33 = 3 x 11 + 0\n",
      "(11, 0)\n",
      "The HCF is 11\n"
     ]
    }
   ],
   "source": [
    "a=121\n",
    "b=44\n",
    "# Change these starting values as required. The next three lines ensure that a is the bigger number\n",
    "if a<b:\n",
    "    (a,b) = (b,a) # This command swaps the numbers round.\n",
    "# We will now print out pairs of numbers (given by taking remainders) until one of the numbers is zero\n",
    "print(a,b)\n",
    "while b>0:\n",
    "    c= (a-a%b)/b\n",
    "    print(\"There are \"), c, (\"copies of\"), b, (\"in\"), a\n",
    "    print a, \"=\", c, \"x\", b, \"+\", a%b\n",
    "    (a,b) = (b,a%b)\n",
    "    print(a,b)\n",
    "print(\"The HCF is\"), a "
   ]
  },
  {
   "cell_type": "markdown",
   "metadata": {},
   "source": [
    "# Back to Bezout"
   ]
  },
  {
   "cell_type": "markdown",
   "metadata": {},
   "source": [
    "How does that help us find whole numbers $m$ and $n$ so that $31m + 14n = 1$?\n",
    "\n",
    "Well, the third equation tells us that $1 = 3- 2$.  We’ve successfully written $1$ as a combination of some integers — but not the right integers!\n",
    "\n",
    "The second equation gives $2 = 14 - 4\\times 3$.  Substituting this in gives $1 = 3-(14-4\\times 3) = 5\\times 3 - 14$.  That looks slightly more promising: we’ve written $1$ as a combination of $3$ and $14$, and $14$ is one of the numbers we’re aiming for.  Let’s get rid of the $3$.\n",
    "\n",
    "The first equation gives $3=31-2\\times 14$.  Substituting this in gives $1=5(31-2\\times 14)-14=5\\times 31-11\\times 14$.  Aha!  So we can take $m=5$ and $n=-11$, for example.  (There are lots of other solutions too, this is just one example.  But our aim was only to show that there is a solution, not to find them all.)\n",
    "\n",
    "Let’s state Bézout’s Theorem formally."
   ]
  },
  {
   "cell_type": "markdown",
   "metadata": {},
   "source": [
    "## Theorem (Bézout) "
   ]
  },
  {
   "cell_type": "markdown",
   "metadata": {},
   "source": [
    "Let $h$ and $k$ be integers. Then there are integers $m$ and $n$ satisfying the equation\n",
    "$hm+kn=1$\n",
    "if and only if the highest common factor of $h$ and $k$ is $1$ (they are coprime)."
   ]
  },
  {
   "cell_type": "markdown",
   "metadata": {},
   "source": [
    "## Coding Euclid's Algorithm\n",
    "\n",
    "Next we try to write a code to work back up the ladder of equations and generate the values of $h$ and $k$."
   ]
  },
  {
   "cell_type": "markdown",
   "metadata": {},
   "source": [
    "The key idea is that if \n",
    "$$ a = m * b + c$$\n",
    "\n",
    "and\n",
    "\n",
    "$$h * b + k * c = z$$\n",
    "\n",
    "then\n",
    "\n",
    "$$h* b  + k* (a - m*b) = z$$\n",
    "\n",
    "$$h*b + k *a - k*m *b = z$$\n",
    "\n",
    "$$k* a + (h-k*m)*b = z$$\n",
    "\n",
    "Thus, to move up one step in the ladder, the multipliers $(h,k)\\rightarrow (k, h-k*m)$, where $m$ is the number of times $b$ goes into $a$. "
   ]
  },
  {
   "cell_type": "code",
   "execution_count": 38,
   "metadata": {
    "collapsed": false
   },
   "outputs": [
    {
     "name": "stdout",
     "output_type": "stream",
     "text": [
      "(121, 44)\n",
      "121 = 2 x 44 + 33\n",
      "(44, 33)\n",
      "44 = 1 x 33 + 11\n",
      "(33, 11)\n",
      "33 = 3 x 11 + 0\n",
      "(11, 0)\n",
      "So the HCF is 11\n",
      "[121, 44, 33] [44, 33, 11] [2, 1, 3]\n",
      "Working back up the ladder of equations:\n",
      "1 x 44 + -1 x 33 = 11\n",
      "-1 x 121 + 3 x 44 = 11\n"
     ]
    }
   ],
   "source": [
    "# The major change in this piece of code is that we store the values of a,b,c in a list\n",
    "a=121\n",
    "b=44\n",
    "alist = []\n",
    "blist = []\n",
    "clist = []\n",
    "\n",
    "if a<b:\n",
    "    (a,b) = (b,a) \n",
    "print(a,b)\n",
    "while b>0:\n",
    "    c= (a-a%b)/b\n",
    "    alist.append(a)\n",
    "    blist.append(b)\n",
    "    clist.append(c)\n",
    "    print a, \"=\", c, \"x\", b, \"+\", a%b\n",
    "    (a,b) = (b,a%b)\n",
    "    print(a,b)\n",
    "print(\"So the HCF is\"), a \n",
    "print(alist), (blist), (clist)\n",
    "print(\"Working back up the ladder of equations:\")\n",
    "# Explicit code fot the first step, picking out the first time the HCF appears\n",
    "(h,k) = (1,-clist[-2])\n",
    "print h, \"x\", alist[-2], \"+\", k, \"x\", blist[-2], \"=\", a \n",
    "# We now introduce a loop which keeps going back up through the ladder\n",
    "n=3\n",
    "while n <= len(alist):\n",
    "    (h,k) = (k,h-clist[-n]*k)\n",
    "    print h, \"x\", alist[-n], \"+\", k, \"x\", blist[-n], \"=\", a \n",
    "    n=n+1\n",
    "# It would be nice to neaten the code so that negative values of h and k are put in brackets."
   ]
  },
  {
   "cell_type": "markdown",
   "metadata": {},
   "source": [
    "Our code yields a single solution, a pair $(h,k)$, satisfying the equation $h*a+k*b = HCF(a,b)$. Can you find the general solution?"
   ]
  },
  {
   "cell_type": "markdown",
   "metadata": {},
   "source": [
    "## How does one prove this?"
   ]
  },
  {
   "cell_type": "markdown",
   "metadata": {},
   "source": [
    "The “only if” direction was the easy one: we noticed earlier that if there’s a solution to the equation then the highest common factor of $h$ and $k$ must be $1$.\n",
    "And for the “if” direction one uses Euclid’s algorithm, exactly as we did for the particular example just now. You run Euclid’s algorithm to find the highest common factor of $h$ and $k$ (which we know is $1$), and then use the resulting equations to express $1$ in terms of $h$ and $k$.\n",
    "You might like to try this for some pairs of numbers of your own. Try some fairly large numbers — Euclid’s algorithm is very efficient, and doesn’t take very many steps."
   ]
  },
  {
   "cell_type": "markdown",
   "metadata": {},
   "source": [
    "# Further reading \n",
    "\n",
    "I am a fan of Harold Davenport’s The Higher Arithmetic, which has a very readable discussion of Euclid’s algorithm (and various things that can be deduced from it) in Chapter $1$. Euclid’s algorithm and Bezout’s theorem are discussed in many introductory number theory books, that just happens to be a personal favourite.\n",
    "\n",
    "There’s a short series of nice articles about Euclid’s algorithm and its uses on the NRICH website, starting with Euclid’s Algorithm I, http://nrich.maths.org/1357."
   ]
  }
 ],
 "metadata": {
  "kernelspec": {
   "display_name": "Python 2",
   "language": "python",
   "name": "python2"
  },
  "language_info": {
   "codemirror_mode": {
    "name": "ipython",
    "version": 2
   },
   "file_extension": ".py",
   "mimetype": "text/x-python",
   "name": "python",
   "nbconvert_exporter": "python",
   "pygments_lexer": "ipython2",
   "version": "2.7.10"
  }
 },
 "nbformat": 4,
 "nbformat_minor": 0
}
