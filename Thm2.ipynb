{
 "cells": [
  {
   "cell_type": "markdown",
   "metadata": {},
   "source": [
    "# Theorem 2: the Intermediate Value Theorem\n",
    " \n",
    "\n",
    "I recently heard a story from my friend, Dr Vicky Neale about her efforts to restore an old mechanical clock to working order.  (There wasn’t much wrong with it, so this was a pretty easy task!)  Having done this, we then needed to regulate the clock: to get it to run at the correct speed.  With a pendulum clock, one does this by adding or removing weights (often pennies) on the bob, which alters the effective length of the pendulum.  This is how the clock known as Big Ben is regulated, for example.  With the sort of clock I worked on, there is a small knob that one can turn (within some limits).\n",
    "\n",
    " \n",
    "\n",
    "The person with whom I worked on the clock recently sent me an e-mail to report on his experimentation.  At one end of the knob’s rotation, the clock gained something like 40 minutes over the course of a week.  At the other end, it lost about an hour a week.  At that point, the mathematician in me applied the Intermediate Value Theorem to deduce that there must be some position of the knob that would make the clock run at the correct speed.  So what is the Intermediate Value Theorem, and would it also apply to a pendulum clock that is adjusted by adding and removing pennies?\n",
    "\n",
    " \n",
    "\n",
    "I think that it’s intuitively quite clear that if the clock runs fast with the knob at one extreme and slow with the knob at the other extreme, then there must be some position of the knob that makes the clock run at the correct speed.  (I’m not claiming anything about what that position is, or how to find it — just that it exists.  In practice, finding it exactly will be rather difficult, and it may be that one has to accept the clock running a few seconds fast or slow.) \n",
    "\n",
    " \n",
    "\n",
    "How might we go about finding the correct position for the knob?  It might be that some feature of the mechanism and adjusting knob means that it is easy to predict where the correct position should be, at least if you know the effect of having the knob at each extremity.  But I don’t know about such a feature, so I’d like some experimental way that doesn’t require analysing the mechanism.\n",
    "\n",
    " \n",
    "\n",
    "We know that one extremity makes the clock run fast, and the other slow.  I think that I’d try halfway between them as a first guess.  Say that makes the clock run fast.  Then I’d know that the correct position is between that point and the slow extremity — I’ve halved the length of the interval that I need to consider.  So then I can do the same thing again: I pick the midpoint of the interval under consideration, and establish whether the clock runs fast or slow.  Then I know that I can restrict my attention to a shorter interval.  I can keep doing this.\n",
    "\n",
    " \n",
    "\n",
    "If I could do it infinitely many times, I’d eventually home in on the correct position for the knob.  Unfortunately, I’m not going to be able to do it infinitely many times in practice — but if the clock had an idealised knob (one that moves continuously, with every intermediate position possible), and if I could adjust it perfectly, then I’d be in business.\n",
    "\n",
    " \n",
    "\n",
    "What happens with a pendulum clock where we add and remove pennies?  There, we can’t make continuous adjustments: we can only add or remove whole numbers of pennies.  So we can get pretty close to the correct speed, but we probably shan’t be spot on.  So it seems that continuity is important.\n",
    "\n",
    " \n",
    "\n",
    "Let’s be slightly more mathematical about all this.  We have a function, $f$, say, that takes the positions of the knob and maps them to how fast or slow the clock runs.  If the slow end of the knob’s rotation is denoted by $a$ and the fast end by $b$, then $f(a)= -60$ and $f(b) = +40$ (or whatever the numbers are).  And the argument is that because $f$ is a continuous function, there’s some point $c$, between $a$ and $b$, so that $f(c)=0$.  Before I state the theorem formally, here’s a picture that might help."
   ]
  },
  {
   "cell_type": "code",
   "execution_count": 1,
   "metadata": {
    "collapsed": false
   },
   "outputs": [
    {
     "data": {
      "text/html": [
       "<img src=\"http://goo.gl/HwAlTt\"/>"
      ],
      "text/plain": [
       "<IPython.core.display.Image object>"
      ]
     },
     "execution_count": 1,
     "metadata": {},
     "output_type": "execute_result"
    }
   ],
   "source": [
    "from IPython.display import Image\n",
    "from IPython.core.display import HTML\n",
    "Image(url= \"http://goo.gl/HwAlTt\")"
   ]
  },
  {
   "cell_type": "markdown",
   "metadata": {},
   "source": [
    "## (above) A continuous function taking a negative value at $a$ and a positive value at $b$\n",
    "\n",
    "##Theorem (Intermediate Value Theorem) \n",
    "\n",
    "Let $f$ be a function that maps real numbers to real numbers. Suppose that $f$ is continuous on the interval $[a,b]$, and that $f(a)<0$ and $f(b)>0$.  Then there is a point $c$, with $a<c<b$, such that $f(c) = 0$.\n",
    "\n",
    "(The interval $[a,b]$ is the set of all real numbers between $a$ and $b$, including the end points $a$ and $b$.)\n",
    "\n",
    "In the case of my clock, there’s only going to be one position of the knob that makes the clock run at the correct speed.  But with this general theorem it’s entirely possible that there’s more than one value of $c$ that gives $f(c) = 0$.  All the theorem tells us is that there is at least one such value.\n",
    "\n",
    "How does one prove this theorem?  First, one needs a definition of continuity that makes precise our intuitive understanding — and I’m not going into that here (not because it’s enormously difficult, but it would take a little while).  But then one does just what we did for the clock above: repeated bisection of intervals, to home in on where the point $c$ must be.\n",
    "\n",
    "Here’s a question you might like to consider.  Suppose that (for some obscure reason) I want my clock to gain $10$ minutes per week.  Can I do that?  More mathematically, suppose that I have a continuous function $f$ so that $f(a) = -60$ and $f(b) = 40$.  Is there some $c$, with $a<c<b$, such that $f(c) = 10$?  Can you deduce this directly from the Intermediate Value Theorem?\n",
    "\n",
    "##Theorem (Intermediate Value Theorem)\n",
    "\n",
    " \n",
    "\n",
    "Let $f$ be a function that maps real numbers to real numbers. Suppose that $f$ is continuous on the interval $[a,b]$, and that $f(a)<0$ and $f(b)>0$.  Then there is a point $c$, with $a<c<b$, such that $f(c) = 0$.\n",
    "\n",
    " \n",
    "\n",
    "(The interval $[a,b]$ is the set of all real numbers between $a$ and $b$, including the end points $a$ and $b$.)\n",
    "\n",
    " \n",
    "\n",
    "In the case of my clock, there’s only going to be one position of the knob that makes the clock run at the correct speed.  But with this general theorem it’s entirely possible that there’s more than one value of $c$ that gives $f(c) = 0$.  All the theorem tells us is that there is at least one such value.\n",
    "\n",
    " \n",
    "\n",
    "How does one prove this theorem?  First, one needs a definition of continuity that makes precise our intuitive understanding — and I’m not going into that here (not because it’s enormously difficult, but it would take a little while).  But then one does just what we did for the clock above: repeated bisection of intervals, to home in on where the point $c$ must be.\n",
    "\n",
    " \n",
    "\n",
    "Here’s a question you might like to consider.  Suppose that (for some obscure reason) I want my clock to gain $10$ minutes per week.  Can I do that?  More mathematically, suppose that I have a continuous function $f$ so that $f(a) = -60$ and $f(b) = 40$.  Is there some $c$, with $a<c<b$, such that $f(c) = 10$?  Can you deduce this directly from the Intermediate Value Theorem?"
   ]
  },
  {
   "cell_type": "markdown",
   "metadata": {},
   "source": [
    "## Coding the Change of Sign method\n",
    "## A decimal search implementing IVT\n",
    "\n",
    "Let us perform this calculation now using the method described above. \n",
    "\n",
    "Consider,\n",
    "$$f(x) = 60 x^3 + 25 x^2 +15 x -60$$\n",
    "\n",
    "We see that $f(0) = -60$, and $f(1) = 40$.\n",
    "\n",
    "So we may take $a=0$, and $b=1$. We want to find $c$ with $f(c) = 10$.\n",
    "\n",
    "We now write some code which calls on the IVT. As we move from solutions which are too big to those which are too small we must have that there is a solution inbetween. You might think about how stable successive approximations need to be for a given accuracy.\n"
   ]
  },
  {
   "cell_type": "code",
   "execution_count": 3,
   "metadata": {
    "collapsed": false
   },
   "outputs": [
    {
     "name": "stdout",
     "output_type": "stream",
     "text": [
      "0.75\n",
      "0.875\n",
      "0.8125\n",
      "0.84375\n",
      "0.859375\n",
      "0.8671875\n",
      "0.86328125\n",
      "For this value of x,  0.86328125 the function is close to 10, taking value 10.1824367046\n"
     ]
    }
   ],
   "source": [
    "# We begin by defining the function f\n",
    "\n",
    "def f(x):\n",
    "   y = 60*x**3 + 25*x**2 +15*x -60\n",
    "   return y;\n",
    "\n",
    "# We consider the initial interval [0,1]\n",
    "a = 0.0\n",
    "b = 1.0\n",
    "c = (a+b)/2 # midpoint of the interval\n",
    "\n",
    "# We now compare the two endpoints to the middle value, c, and how they compare with the desired value of 10.\n",
    "\n",
    "# f(0) = -60 < 10\n",
    "# f(1) = 40 > 10\n",
    "\n",
    "while (b-a)> 0.01: # keep going until a and b are close together\n",
    "    if (f(c) < 10): # the change is between c and b\n",
    "        (a,b) = (c,b) # redefine the interval\n",
    "    if (f(c) > 10): # the change is between a and c\n",
    "        (a,b) = (a,c) # redefine the interval\n",
    "    c = (a+b)/2 # midpoint of the interval\n",
    "    print c\n",
    "print('For this value of x, '),(c),('the function is close to 10, taking value'),(f(c))"
   ]
  },
  {
   "cell_type": "code",
   "execution_count": null,
   "metadata": {
    "collapsed": true
   },
   "outputs": [],
   "source": []
  }
 ],
 "metadata": {
  "kernelspec": {
   "display_name": "Python 2",
   "language": "python",
   "name": "python2"
  },
  "language_info": {
   "codemirror_mode": {
    "name": "ipython",
    "version": 2
   },
   "file_extension": ".py",
   "mimetype": "text/x-python",
   "name": "python",
   "nbconvert_exporter": "python",
   "pygments_lexer": "ipython2",
   "version": "2.7.10"
  }
 },
 "nbformat": 4,
 "nbformat_minor": 0
}
