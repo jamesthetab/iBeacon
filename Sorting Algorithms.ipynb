{
 "cells": [
  {
   "cell_type": "markdown",
   "metadata": {},
   "source": [
    "# Sorting Algorithms"
   ]
  },
  {
   "cell_type": "markdown",
   "metadata": {},
   "source": [
    "## 1. Bubble Sort "
   ]
  },
  {
   "cell_type": "markdown",
   "metadata": {},
   "source": [
    "The class began by learning how to define functions in Python and how to pick out elements of an array to create ```swap```. Bubble Sort was then a double loop working through the array, sorting pairs, up to $n$ (list length) times."
   ]
  },
  {
   "cell_type": "code",
   "execution_count": 3,
   "metadata": {
    "collapsed": true
   },
   "outputs": [],
   "source": [
    "def swap( A, x, y ):\n",
    "    tmp = A[x]\n",
    "    A[x] = A[y]\n",
    "    A[y] = tmp\n",
    "\n",
    "def bubblesort(A):\n",
    "    for i in range( len( A ) ):\n",
    "        for k in range( len( A ) - 1, i, -1 ):\n",
    "            if ( A[k] < A[k - 1] ):\n",
    "                swap( A, k, k - 1 )\n",
    "    return A"
   ]
  },
  {
   "cell_type": "markdown",
   "metadata": {},
   "source": [
    "## 2. Quick Sort"
   ]
  },
  {
   "cell_type": "markdown",
   "metadata": {},
   "source": [
    "The challenge here, where Quick Sort takes the middle element as a pivot and creates two subsets was to make sure that a single pass, ```quicksortsingle``` always returned three lists. Python's clever ability to define functions recursively completed the definition (we built up to this by first defining $n!$ in this way)."
   ]
  },
  {
   "cell_type": "code",
   "execution_count": 4,
   "metadata": {
    "collapsed": true
   },
   "outputs": [],
   "source": [
    "def quicksortsingle(A):\n",
    "    if len(A) >= 1:\n",
    "        pivot = A[len(A)/2]  #select middle object, automatically takes floor\n",
    "        #print(pivot)\n",
    "        \n",
    "        small = []\n",
    "        big = []\n",
    "        \n",
    "        #print(A)\n",
    "        A.remove(pivot)\n",
    "        #print(A)\n",
    "        \n",
    "        for i in A:\n",
    "            if i <= pivot:\n",
    "                small.append(i)\n",
    "            else:\n",
    "                big.append(i)\n",
    "            #print(small,pivot,big)\n",
    "        return(small, [pivot], big)\n",
    "    if len(A) == 0:\n",
    "        return([],[],[])\n",
    "\n",
    "def qs(A):\n",
    "    if len(A) <= 1:\n",
    "        return A\n",
    "    else:\n",
    "        (small,pivot,big) = quicksortsingle(A)\n",
    "        return qs(small)+qs(pivot)+qs(big)"
   ]
  },
  {
   "cell_type": "markdown",
   "metadata": {},
   "source": [
    "## 3. Built-in Sort"
   ]
  },
  {
   "cell_type": "markdown",
   "metadata": {},
   "source": [
    "Embedded in the language already is a version of Timsort, a hybrid sorting algorithm, derived from merge sort and insertion sort, designed to perform well on many kinds of real-world data. It was invented by Tim Peters in 2002 for use in the Python programming language. The algorithm finds subsets of the data that are already ordered, and uses the subsets to sort the data more efficiently. This is done by merging an identified subset, called a run, with existing runs until certain criteria are fulfilled.\n",
    "\n",
    "IT is accessed using the ```sorted(list)``` command."
   ]
  },
  {
   "cell_type": "markdown",
   "metadata": {},
   "source": [
    "## 4. Examples"
   ]
  },
  {
   "cell_type": "code",
   "execution_count": 5,
   "metadata": {
    "collapsed": false
   },
   "outputs": [
    {
     "name": "stdout",
     "output_type": "stream",
     "text": [
      "[2, 6, 3, 4, 8, 1, 12]\n",
      "[1, 2, 3, 4, 6, 8, 12]\n",
      "[1, 2, 3, 4, 6, 8, 12]\n",
      "[1, 2, 3, 4, 6, 8, 12]\n"
     ]
    }
   ],
   "source": [
    "X = [2,6,3,4,8,1,12]\n",
    "\n",
    "print(X)\n",
    "print(sorted(X))\n",
    "print(bubblesort(X))\n",
    "print(qs(X))\n"
   ]
  },
  {
   "cell_type": "markdown",
   "metadata": {},
   "source": [
    "## 5. Timings and Complexity"
   ]
  },
  {
   "cell_type": "markdown",
   "metadata": {},
   "source": [
    "Our next goal was to explore the complexity of algorithms by measuring the time taken, and the factors by which that changed as the list length increased. \n",
    "\n",
    "The class was shocked that different computers with different processors and memory varied so much in terms of performance!\n",
    "\n",
    "We began by importing the ```timeit``` module and learning how to take intermediate timings from it."
   ]
  },
  {
   "cell_type": "code",
   "execution_count": 6,
   "metadata": {
    "collapsed": false
   },
   "outputs": [
    {
     "name": "stdout",
     "output_type": "stream",
     "text": [
      "Hello, world!\n",
      "0.000502909222553\n"
     ]
    }
   ],
   "source": [
    "from timeit import default_timer as timer\n",
    "\n",
    "start = timer()\n",
    "print(\"Hello, world!\")\n",
    "end = timer()\n",
    "print(end - start)  "
   ]
  },
  {
   "cell_type": "markdown",
   "metadata": {},
   "source": [
    "Next, we measured the timings for sorting a short hand written list."
   ]
  },
  {
   "cell_type": "code",
   "execution_count": 3,
   "metadata": {
    "collapsed": false
   },
   "outputs": [
    {
     "name": "stdout",
     "output_type": "stream",
     "text": [
      "[1, 2, 3, 4, 6, 8, 12]\n",
      "[2, 6, 3, 4, 8, 1, 12]\n",
      "[1, 2, 3, 4, 6, 8, 12]\n",
      "[1, 2, 3, 4, 6, 8, 12]\n",
      "[1, 2, 3, 4, 6, 8, 12]\n",
      "[1, 2, 3, 6, 8, 12]\n",
      "('Built in Sorted took', 9.112838714570026e-05)\n",
      "('Bubblesort took', 9.112838714575577e-05)\n",
      "('Quicksort took', 9.361653423500815e-05)\n"
     ]
    }
   ],
   "source": [
    "X = [2,6,3,4,8,1,12]\n",
    "\n",
    "from timeit import default_timer as timer\n",
    "\n",
    "start = timer()\n",
    "sorted(X)\n",
    "inta = timer()\n",
    "bubblesort(X)\n",
    "intb = timer()\n",
    "qs(X)\n",
    "end = timer()\n",
    "\n",
    "print(\"Built in Sorted took\", inta-start)\n",
    "\n",
    "print(\"Bubblesort took\", intb-inta)\n",
    "\n",
    "print(\"Quicksort took\", end-intb)"
   ]
  },
  {
   "cell_type": "markdown",
   "metadata": {},
   "source": [
    "The relative speeds are not yet showing up, and are too dependent on luck for such a short list. We repeated the experiment with a list of length $100$."
   ]
  },
  {
   "cell_type": "code",
   "execution_count": 8,
   "metadata": {
    "collapsed": false
   },
   "outputs": [
    {
     "name": "stdout",
     "output_type": "stream",
     "text": [
      "('Built in Sorted took', 0.0002531651868480367)\n",
      "('Bubblesort took', 0.004138037851618037)\n",
      "('Quicksort took', 0.0007769123302239223)\n"
     ]
    }
   ],
   "source": [
    "import random\n",
    "X = random.sample(range(1000), 100)\n",
    "\n",
    "from timeit import default_timer as timer\n",
    "\n",
    "start = timer()\n",
    "sorted(X)\n",
    "inta = timer()\n",
    "bubblesort(X)\n",
    "intb = timer()\n",
    "qs(X)\n",
    "end = timer()\n",
    "\n",
    "print(\"Built in Sorted took\", inta-start)\n",
    "\n",
    "print(\"Bubblesort took\", intb-inta)\n",
    "\n",
    "print(\"Quicksort took\", end-intb)"
   ]
  },
  {
   "cell_type": "markdown",
   "metadata": {},
   "source": [
    "The order is now as we would expect, but luck when picking a single list of length 100 could throw off the stats. We built up a function which measures speed over $r$ repetitions and takes the average. Note that following a neat suggestion from one of my students we decided not to store all the timing values, but instead a running total which allowed us to calculate the average at the end."
   ]
  },
  {
   "cell_type": "code",
   "execution_count": 9,
   "metadata": {
    "collapsed": false
   },
   "outputs": [],
   "source": [
    "import random\n",
    "\n",
    "def bstime(n): # n is size of list\n",
    "    r = 10 #repetitions\n",
    "    i = 0\n",
    "    total = 0\n",
    "\n",
    "    while i<r:\n",
    "        X = random.sample(range(1000),n)\n",
    "        start = timer()\n",
    "        bubblesort(X)\n",
    "        end = timer()\n",
    "        total = total + (end-start)\n",
    "        i += 1\n",
    "    time = total/r\n",
    "    return time"
   ]
  },
  {
   "cell_type": "markdown",
   "metadata": {},
   "source": [
    "## 6. Graphing"
   ]
  },
  {
   "cell_type": "markdown",
   "metadata": {},
   "source": [
    "Although this method now sorted the algorithms it only gave a snapshot of how each was behaving. We discuss implementing the ```bstime()``` function across a range of values and plotting the results. This gave the class an opportunity to learn about ```matplotlib```, and the important magic function ```%matplotlib inline``` which keeps the output within the Jupyter notebook.\n",
    "\n",
    "I stepped over list lengths from 1 to 499 and created a list of the corresponding average timings."
   ]
  },
  {
   "cell_type": "code",
   "execution_count": 11,
   "metadata": {
    "collapsed": false
   },
   "outputs": [
    {
     "data": {
      "text/plain": [
       "[<matplotlib.lines.Line2D at 0x88a5f98>]"
      ]
     },
     "execution_count": 11,
     "metadata": {},
     "output_type": "execute_result"
    },
    {
     "data": {
      "image/png": "[encoded data removed]",
      "text/plain": [
       "<matplotlib.figure.Figure at 0x3dbfa58>"
      ]
     },
     "metadata": {},
     "output_type": "display_data"
    }
   ],
   "source": [
    "%matplotlib inline\n",
    "import numpy as np\n",
    "import matplotlib.pyplot as plt\n",
    "\n",
    "x=[]\n",
    "y=[]\n",
    "\n",
    "n = 1\n",
    "while n<500:\n",
    "    x.append(n)\n",
    "    y.append(bstime(n))\n",
    "    n = n+1\n",
    "\n",
    "    \n",
    "plt.plot(x,y)"
   ]
  },
  {
   "cell_type": "code",
   "execution_count": null,
   "metadata": {
    "collapsed": true
   },
   "outputs": [],
   "source": []
  },
  {
   "cell_type": "markdown",
   "metadata": {},
   "source": [
    "This appears to be a quadratic curve, $O(n^2)$, as suggested by theory, but fitting quadratics is hard. Instead we studies the $log-log$ graph, where a linear model of gradient of $2$ would confirm a good model by a single quadratic.\n",
    "\n",
    "We began by creating new $log$ lists, ```a``` and ```b```, and then plotting the result."
   ]
  },
  {
   "cell_type": "code",
   "execution_count": 16,
   "metadata": {
    "collapsed": false
   },
   "outputs": [],
   "source": [
    "a = np.log(x)\n",
    "b = np.log(y)"
   ]
  },
  {
   "cell_type": "code",
   "execution_count": 18,
   "metadata": {
    "collapsed": false
   },
   "outputs": [
    {
     "data": {
      "text/plain": [
       "[<matplotlib.lines.Line2D at 0x8af67f0>]"
      ]
     },
     "execution_count": 18,
     "metadata": {},
     "output_type": "execute_result"
    },
    {
     "data": {
      "image/png": "[encoded data removed]",
      "text/plain": [
       "<matplotlib.figure.Figure at 0x745e588>"
      ]
     },
     "metadata": {},
     "output_type": "display_data"
    }
   ],
   "source": [
    "plt.plot(a,b)"
   ]
  },
  {
   "cell_type": "markdown",
   "metadata": {},
   "source": [
    "This looks to be a fairly good line graph, but relatively few points in the 0-4 ```a```-range create noise. We can calculate the gradient of line of best fit as follows. "
   ]
  },
  {
   "cell_type": "code",
   "execution_count": 19,
   "metadata": {
    "collapsed": false
   },
   "outputs": [
    {
     "name": "stdout",
     "output_type": "stream",
     "text": [
      "1.73429200491\n"
     ]
    }
   ],
   "source": [
    "slope, intercept = np.polyfit(a, b , 1)\n",
    "print(slope)"
   ]
  },
  {
   "cell_type": "markdown",
   "metadata": {},
   "source": [
    "It makes sense that the graph is less stable for small values, when the linear \"error term\" is more significant relative to $n^2$, thus if we are only interesting in picking out the largest power (as the gradient of $log-log$ graph) it is justified to ignore small values, in this case when log(list-length) $<4$, list-length $<60$."
   ]
  },
  {
   "cell_type": "code",
   "execution_count": 26,
   "metadata": {
    "collapsed": false
   },
   "outputs": [],
   "source": [
    "c = a[60:]\n",
    "d = b[60:]"
   ]
  },
  {
   "cell_type": "code",
   "execution_count": 30,
   "metadata": {
    "collapsed": false
   },
   "outputs": [
    {
     "data": {
      "text/plain": [
       "[<matplotlib.lines.Line2D at 0x90975f8>]"
      ]
     },
     "execution_count": 30,
     "metadata": {},
     "output_type": "execute_result"
    },
    {
     "data": {
      "image/png": "[encoded data removed]",
      "text/plain": [
       "<matplotlib.figure.Figure at 0x8e49080>"
      ]
     },
     "metadata": {},
     "output_type": "display_data"
    }
   ],
   "source": [
    "plt.plot(c,d)"
   ]
  },
  {
   "cell_type": "markdown",
   "metadata": {},
   "source": [
    "This now appears to be an excellent fit (which we could confirm using PMCC)."
   ]
  },
  {
   "cell_type": "code",
   "execution_count": 28,
   "metadata": {
    "collapsed": false
   },
   "outputs": [
    {
     "name": "stdout",
     "output_type": "stream",
     "text": [
      "1.97713881883\n"
     ]
    }
   ],
   "source": [
    "slope, intercept = np.polyfit(c, d , 1)\n",
    "print(slope)"
   ]
  },
  {
   "cell_type": "markdown",
   "metadata": {},
   "source": [
    "After the noise at the start, the log-log graph, log time vs log list length settles down to have gradient two, hence complexity of Bubble Sort is $O(n^2)$ where $n = $ list length."
   ]
  }
 ],
 "metadata": {
  "anaconda-cloud": {},
  "kernelspec": {
   "display_name": "Python [Root]",
   "language": "python",
   "name": "Python [Root]"
  },
  "language_info": {
   "codemirror_mode": {
    "name": "ipython",
    "version": 2
   },
   "file_extension": ".py",
   "mimetype": "text/x-python",
   "name": "python",
   "nbconvert_exporter": "python",
   "pygments_lexer": "ipython2",
   "version": "2.7.12"
  }
 },
 "nbformat": 4,
 "nbformat_minor": 1
}
