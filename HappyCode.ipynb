{
 "cells": [
  {
   "cell_type": "markdown",
   "metadata": {},
   "source": [
    "# Happy Numbers and Happy Code"
   ]
  },
  {
   "cell_type": "markdown",
   "metadata": {},
   "source": [
    "## How to use this page\n",
    "\n",
    "This site is created using the Juyter Project, a typesetting and Coding platform, and hosted on GitHub, cloud storage, which renders the JP page without leaving their site.\n",
    "\n",
    "Download the code, and edit it within the Jupyter Project to get the most out this resource."
   ]
  },
  {
   "cell_type": "markdown",
   "metadata": {},
   "source": [
    "## Iterative Step\n",
    "\n",
    "We are going to look at some mappings from the natural numbers to themselves, which are based on the digits in the decimal representation of the number.\n",
    "\n",
    "There are $3$ types of Iterative Step:\n",
    "\n",
    "$(1)$ Replace a number by the sum of its digits\n",
    "\n",
    "$(2)$ Replace a number by the sum of the squares of its digits\n",
    "\n",
    "$(3)$ Replace a number by the sum of the cubes of its digits\n"
   ]
  },
  {
   "cell_type": "markdown",
   "metadata": {
    "collapsed": true
   },
   "source": [
    "## Definition of Happiness\n",
    "\n",
    "A happy number is defined by repeating the steps: (1), (2), or (3) above until the sequence settles into a pattern (why does it have to eventually repeat?). Those numbers for which this process ends in 1 are happy numbers, while those that do not end in 1 are unhappy numbers (or sad numbers).\n",
    "\n",
    "## Step $(1)$\n",
    "\n",
    "We recall that the remainder that when you divide by $9$ is unchanged when the number is replaced by its digit sum. So any number which has remainder 1 when divided by $9$, of the general form $9n+1$, for some integer $n$ will eventually reach $1$ and be happy.\n",
    "\n",
    "To prove this trick with the digit sum you need to observe that each power of $10$, $10^m$ has remainder $1$ when divided by $9$. Since multiplication is well defined on remainders (proof needed), $10^n \\cong 1^n \\cong 1$ when we take remainder dividing by $9$.\n",
    "\n",
    "Thus the remainder of $\"\\dots  edcba\" = \\dots + 10000e+1000d +100c +10 b + a \\cong \\dots e+d+c+b+a$.\n",
    "\n",
    "## Step $(3)$\n",
    "\n",
    "This is accessible using that the sum of cubes, $a^3+b^3$, factorises (whereas squares don't):\n",
    "\n",
    "$$a^3+ b^3 = (a+b).(a^2-ab+b^2)$$\n"
   ]
  },
  {
   "cell_type": "markdown",
   "metadata": {},
   "source": [
    "## Step $(2)$"
   ]
  },
  {
   "cell_type": "markdown",
   "metadata": {},
   "source": [
    "The case of squaring digits gives the richest behaviour.\n",
    "\n",
    "A simple calculation shows that $19$ is happy:\n",
    "\n",
    "For example, 19 is happy, as the associated sequence is:\n",
    "\n",
    "$$1^2 + 9^2 = 82$$\n",
    "$$8^2 + 2^2 = 68$$\n",
    "$$6^2 + 8^2 = 100$$\n",
    "$$1^2 + 0^2 + 0^2 = 1.$$"
   ]
  },
  {
   "cell_type": "markdown",
   "metadata": {},
   "source": [
    "We soon discover two distinct types of behaviour. Either a number is happy, ends in $1$, or else enters, and is then stuck in the \"Cycle of Doom\": $$\\dots \\rightarrow 4 \\rightarrow 16 \\rightarrow 37 \\rightarrow 58\\rightarrow 89\\rightarrow 145\\rightarrow 42\\rightarrow 20\\rightarrow 4,\\dots$$"
   ]
  },
  {
   "cell_type": "markdown",
   "metadata": {},
   "source": [
    "We can soon reduce to these cases by realizing that Step $(2)$ makes all large numbers (above $300$ is clear) smaller, so we only need check the first few cases."
   ]
  },
  {
   "cell_type": "markdown",
   "metadata": {},
   "source": [
    "A couple more simple observations: the happiness of a number is unaffected by rearranging the digits, and by inserting or removing any number of zeros anywhere in the number."
   ]
  },
  {
   "cell_type": "markdown",
   "metadata": {},
   "source": [
    "## Finding Happy Numbers\n",
    "\n",
    "A methodical search using a web of happy numbers, and other numbers trapped in the cycle of doom can quickly yield the $20$ happy numbers up to $100$:\n",
    "\n",
    "$$1, 7, 10, 13, 19, 23, 28, 31, 32, 44, 49, 68, 70, 79, 82, 86, 91, 94, 97, 100$$\n",
    "\n",
    "We can begin introducing some code (following the suggestion of James Craster) to check for larger Happy Numbers. The following are the Happy Numbers up to $1000$:\n",
    "\n",
    "$$1, 7, 10, 13, 19, 23, 28, 31, 32, 44, 49, 68, 70, 79, 82, 86, 91, 94, 97, 100, 103, 109, 129, 130, 133, 139, 167, 176, 188, 190, 192, 193, 203, 208, 219, 226, 230, 236, 239, 262, 263, 280, 291, 293, 301, 302, 310, 313, 319, 320, 326, 329, 331, 338, 356, 362, 365, 367, 368, 376, 379, 383, 386, 391, 392, 397, 404, 409, 440, 446, 464, 469, 478, 487, 490, 496, 536, 556, 563, 565, 566, 608, 617, 622, 623, 632, 635, 637, 638, 644, 649, 653, 655, 656, 665, 671, 673, 680, 683, 694, 700, 709, 716, 736, 739, 748, 761, 763, 784, 790, 793, 802, 806, 818, 820, 833, 836, 847, 860, 863, 874, 881, 888, 899, 901, 904, 907, 910, 912, 913, 921, 923, 931, 932, 937, 940, 946, 964, 970, 973, 989, 998, 1000.$$\n",
    "\n",
    "Or, using the comments above, we can reduce these to the distinct combinations of three or fewer digits that form happy numbers below 1,000 (the rest are just rearrangements and/or insertions of zero digits)are:\n",
    "\n",
    "$$1, 7, 13, 19, 23, 28, 44, 49, 68, 79, 129, 133, 139, 167, 188, 226, 236, 239, 338, 356, 367, 368, 379, 446, 469, 478, 556, 566, 888, 899.$$\n",
    "\n",
    "I'd also like to link to the excellent On-Line Encyclopedia of Integer Sequences, OEIS, https://oeis.org\n",
    "\n",
    "This will make suggestions for the maths underlying sequences from just a few terms.\n",
    "\n"
   ]
  },
  {
   "cell_type": "markdown",
   "metadata": {},
   "source": [
    "## Raw Data - calculate the number of happy numbers up to \"tops\""
   ]
  },
  {
   "cell_type": "code",
   "execution_count": 2,
   "metadata": {
    "collapsed": false
   },
   "outputs": [
    {
     "name": "stdout",
     "output_type": "stream",
     "text": [
      "There are 20 Happy numbers between 1 and 100 :\n",
      "[1, 7, 10, 13, 19, 23, 28, 31, 32, 44, 49, 68, 70, 79, 82, 86, 91, 94, 97, 100]\n"
     ]
    }
   ],
   "source": [
    "def squares(n):\n",
    "    digits = [int(i) for i in str(n)]\n",
    "    sum = 0\n",
    "    for d in digits:\n",
    "        sum = sum + d**2\n",
    "    return sum\n",
    "\n",
    "\n",
    "H = [1]\n",
    "NH = []\n",
    "\n",
    "n=2\n",
    "tops = 100\n",
    "while n<=tops:\n",
    "    k = n\n",
    "    sqlist = [k]\n",
    "    k = squares(k)\n",
    "    while not(k ==1) and not(k in sqlist[:-2]):\n",
    "        k = squares(k)\n",
    "        sqlist.append(k)\n",
    "    if k==1:\n",
    "        H.append(n)\n",
    "    if k in sqlist:\n",
    "        NH.append(n)\n",
    "    n = n+1\n",
    "print(\"There are\"), (len(H)), (\"Happy numbers between\"), (1), (\"and\"), (tops), (\":\")\n",
    "print(H)"
   ]
  },
  {
   "cell_type": "markdown",
   "metadata": {},
   "source": [
    "## Draw a Graph - sampling every 100, draw the growth of happy numbers on a graph\n",
    "\n",
    "We can now count the number of happy numbers up to different values, and watch the grow. What I was surprised by, and wanted to share, was that modulo a bit of noise, the relationship between the $n$ and the number of happy numbers up to $n$, is linear! Direct proportion infact. \n",
    "\n",
    "I think that coming up with reasons for this strong relationship is a good exercise. Good luck!!!"
   ]
  },
  {
   "cell_type": "code",
   "execution_count": null,
   "metadata": {
    "collapsed": false
   },
   "outputs": [],
   "source": [
    "import numpy as np\n",
    "import matplotlib.pyplot as plt\n",
    "\n",
    "\n",
    "def squares(n):\n",
    "    digits = [int(i) for i in str(n)]\n",
    "    sum = 0\n",
    "    for d in digits:\n",
    "        sum = sum + d**2\n",
    "    return sum\n",
    "\n",
    "\n",
    "H = [1]\n",
    "NH = []\n",
    "\n",
    "x = []\n",
    "y = []\n",
    "\n",
    "n=2\n",
    "t=1\n",
    "while t <=100:\n",
    "    tops = t*100\n",
    "    while n<=tops:\n",
    "        k = n\n",
    "        sqlist = [k]\n",
    "        k = squares(k)\n",
    "        while not(k ==1) and not(k in sqlist[:-2]):\n",
    "            k = squares(k)\n",
    "            sqlist.append(k)\n",
    "        if k==1:\n",
    "            H.append(n)\n",
    "        if k in sqlist:\n",
    "            NH.append(n)\n",
    "        n = n+1\n",
    "    #print(\"There are\"), (len(H)), (\"Happy numbers between\"), (1), (\"and\"), (tops)\n",
    "    x.append(tops)\n",
    "    y.append(len(H))\n",
    "    t = t+1\n",
    "\n",
    "plt.scatter(x, y)\n",
    "plt.show()"
   ]
  },
  {
   "cell_type": "markdown",
   "metadata": {},
   "source": [
    "Executing the above code in a Project Jupyter, Python 2 notebook kernel will draw a plot - change the maximum value of $t$, $t \\leq \\,\\,?$ to plot more points, and change the spacing between plots using $tops = t \\,\\,*\\,\\,?$."
   ]
  }
 ],
 "metadata": {
  "kernelspec": {
   "display_name": "Python 2",
   "language": "python",
   "name": "python2"
  },
  "language_info": {
   "codemirror_mode": {
    "name": "ipython",
    "version": 2
   },
   "file_extension": ".py",
   "mimetype": "text/x-python",
   "name": "python",
   "nbconvert_exporter": "python",
   "pygments_lexer": "ipython2",
   "version": "2.7.10"
  }
 },
 "nbformat": 4,
 "nbformat_minor": 0
}
