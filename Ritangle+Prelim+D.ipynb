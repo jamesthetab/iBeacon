{
 "cells": [
  {
   "cell_type": "code",
   "execution_count": 2,
   "metadata": {
    "collapsed": false
   },
   "outputs": [
    {
     "name": "stdout",
     "output_type": "stream",
     "text": [
      "The following numbers are abundant\n",
      "945\n",
      "1575\n"
     ]
    }
   ],
   "source": [
    "def sumf(x):\n",
    " return sum([n for n in xrange(1,x) if x % n == 0])\n",
    "\n",
    "print(\"The following numbers are abundant\")\n",
    "\n",
    "i=1\n",
    "while i<1000:\n",
    "    if sumf(2*i-1)>(2*i-1):\n",
    "        print(2*i-1)\n",
    "    i = i+1"
   ]
  },
  {
   "cell_type": "code",
   "execution_count": null,
   "metadata": {
    "collapsed": true
   },
   "outputs": [],
   "source": []
  }
 ],
 "metadata": {
  "kernelspec": {
   "display_name": "Python 2",
   "language": "python",
   "name": "python2"
  },
  "language_info": {
   "codemirror_mode": {
    "name": "ipython",
    "version": 2
   },
   "file_extension": ".py",
   "mimetype": "text/x-python",
   "name": "python",
   "nbconvert_exporter": "python",
   "pygments_lexer": "ipython2",
   "version": "2.7.12"
  }
 },
 "nbformat": 4,
 "nbformat_minor": 1
}
