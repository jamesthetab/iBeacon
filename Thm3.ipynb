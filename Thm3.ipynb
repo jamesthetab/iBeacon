{
 "cells": [
  {
   "cell_type": "markdown",
   "metadata": {},
   "source": [
    "# Theorem 3: Vinogradov’s Three Primes\n",
    "\n",
    "I very much doubt that when Christian Goldbach sat \n",
    "down in $1742$ to write to Leonhard Euler he had any \n",
    "idea that the resulting correspondence would ensure him mathematical fame.  Goldbach’s conjecture is one of the famous unsolved problems in mathematics today.  I suspect that one of the main reasons for its fame is that it is easy to state, but apparently very hard.  Just in case you haven’t come across the conjecture, here’s a statement of it.  (This is not exactly how Goldbach phrased it; he thought of 1 as a prime number.  But this is a modern equivalent.)"
   ]
  },
  {
   "cell_type": "markdown",
   "metadata": {},
   "source": [
    "## Conjecture (Goldbach) \n",
    "Every even number greater than 2 can be written as the sum of two primes (a prime plus a prime).\n",
    "\n",
    "For example, $18 = 11+7$, and $92 = 89+3$.\n",
    "\n",
    "Perhaps less well known is that Goldbach made another conjecture about writing numbers as sums of primes."
   ]
  },
  {
   "cell_type": "markdown",
   "metadata": {},
   "source": [
    "## Conjecture (Goldbach) \n",
    "Every odd number greater than 5 can be written as the sum of three primes."
   ]
  },
  {
   "cell_type": "markdown",
   "metadata": {},
   "source": [
    "For example, $7 = 2 + 2 + 3$, and $91 = 3 + 5 + 83$.\n",
    "\n",
    "This brings me to this week’s theorem, which goes a long way towards proving this conjecture.  It is due to the Russian mathematician Ivan Vinogradov."
   ]
  },
  {
   "cell_type": "markdown",
   "metadata": {},
   "source": [
    "## Theorem (Vinogradov) \n",
    "Every sufficiently large odd number can be written as the sum of three primes."
   ]
  },
  {
   "cell_type": "markdown",
   "metadata": {},
   "source": [
    "When I say “every sufficiently large odd number”, I mean that there is some fixed point beyond which every odd number works (but I’m avoiding telling you what that fixed point is!).\n",
    "\n",
    "Does that come close to proving Goldbach’s conjecture?  Yes, I think so.  Goldbach’s conjecture is that there are no odd numbers greater than $5$ that cannot be expressed as the sum of three primes.  Vinogradov’s theorem tells us that there are only finitely many bad numbers.\n",
    "\n",
    "In principle, one could set a computer to check the odd numbers not covered by Vinogradov’s theorem (the ones up to the fixed point).  In practice, to do this requires one first to show that one can take the fixed point to be a number that isn’t too large (or it would take a computer too long to do the checking).  I believe that there are mathematicians currently working on this, so it may be that before too long we’ll know for sure that every odd number greater than 5 can be written as the sum of three primes.\n",
    "\n",
    "Vinogradov was not the first person to make progress on this theorem.  The groundwork was done by G.H. Hardy and J.E. Littlewood in $1923$, when they used their so-called circle method (now often called the Hardy-Littlewood circle method) to show that if the generalised Riemann Hypothesis is true, then every sufficiently large odd integer can be written as the sum of three primes.  (The generalised Riemann Hypothesis gave them some information that they required about the distribution of the primes.)  Then in $1937$ Vinogradov came up with an approach that also used the circle method, but it didn’t require the assumption of the generalised Riemann Hypothesis (which remains unproved to this day).\n",
    "\n",
    "The circle method has been used for many other problems.  Hardy and Srinivasa Ramanujan used it to study the number of ways to write a number $N$ as a sum (the partition function), and Hardy and Littlewood  used it to give a new proof of Waring’s problem (first proved by David Hilbert), to give just two examples.\n",
    "\n",
    "Unfortunately, it seems that the circle method can’t be used to prove the famous Goldbach conjecture (that every even number greater than $2$ can be written as the sum of two primes) — although of course that doesn’t mean that the conjecture is false!\n",
    "\n",
    "You might like to check your understanding by convincing yourself that the second conjecture I’ve stated above doesn’t imply the first.  That is, even if we know that odd numbers are sums of three primes, we don’t automatically know that even numbers are sums of two primes."
   ]
  },
  {
   "cell_type": "markdown",
   "metadata": {},
   "source": [
    "## Checking Goldbach's Conjecture\n",
    "\n",
    "We will now use Python code to check that pairs of prime numbers exist satisfying Goldbach's Conjecture for each even number up to a given value, $n$.\n",
    "\n",
    "Of course, there are an infinite number of even numbers to check, and we need to show each can be decomposed into a pair of primes. \n",
    "\n",
    "On paper we can check the first 10 without too much problem. Using a script on a computer we can get up to 1000 perhaps, but we still have $\\infty - 1000$, infinitely many to go!\n",
    "\n",
    "Work through the script below, and see if you can spot the implementation of the Sieve of Eratosthenes."
   ]
  },
  {
   "cell_type": "code",
   "execution_count": 18,
   "metadata": {
    "collapsed": false
   },
   "outputs": [
    {
     "name": "stdout",
     "output_type": "stream",
     "text": [
      "[2, 3, 5, 7, 11, 13, 17, 19, 23, 29, 31, 37, 41, 43, 47, 53, 59, 61, 67, 71, 73, 79, 83, 89, 97]\n",
      "4 = 2 + 2\n",
      "6 = 3 + 3\n",
      "8 = 3 + 5\n",
      "10 = 3 + 7\n",
      "12 = 5 + 7\n",
      "14 = 3 + 11\n",
      "16 = 3 + 13\n",
      "18 = 5 + 13\n",
      "20 = 3 + 17\n",
      "22 = 3 + 19\n",
      "24 = 5 + 19\n",
      "26 = 3 + 23\n",
      "28 = 5 + 23\n",
      "30 = 7 + 23\n",
      "32 = 3 + 29\n",
      "34 = 3 + 31\n",
      "36 = 5 + 31\n",
      "38 = 7 + 31\n",
      "40 = 3 + 37\n",
      "42 = 5 + 37\n",
      "44 = 3 + 41\n",
      "46 = 3 + 43\n",
      "48 = 5 + 43\n",
      "50 = 3 + 47\n",
      "52 = 5 + 47\n",
      "54 = 7 + 47\n",
      "56 = 3 + 53\n",
      "58 = 5 + 53\n",
      "60 = 7 + 53\n",
      "62 = 3 + 59\n",
      "64 = 3 + 61\n",
      "66 = 5 + 61\n",
      "68 = 7 + 61\n",
      "70 = 3 + 67\n",
      "72 = 5 + 67\n",
      "74 = 3 + 71\n",
      "76 = 3 + 73\n",
      "78 = 5 + 73\n",
      "80 = 7 + 73\n",
      "82 = 3 + 79\n",
      "84 = 5 + 79\n",
      "86 = 3 + 83\n",
      "88 = 5 + 83\n",
      "90 = 7 + 83\n",
      "92 = 3 + 89\n",
      "94 = 5 + 89\n",
      "96 = 7 + 89\n",
      "98 = 19 + 79\n",
      "100 = 3 + 97\n"
     ]
    }
   ],
   "source": [
    "# The first part of this code generates a list, primes\n",
    "\n",
    "n = 100\n",
    "\n",
    "# Our list of primes will go up to n\n",
    "\n",
    "primes = [2]\n",
    "length = len(primes)\n",
    "s = 3\n",
    "\n",
    "while primes[-1] < n: # primes[-1] picks out the biggest prime in the list\n",
    "        f = 0\n",
    "        for m in primes:\n",
    "                if f!=0:\n",
    "                        break\n",
    "                if m > int(s**(0.5)):\n",
    "                        break\n",
    "                f += not(s%m)\n",
    "        if f == 0: \n",
    "                primes.append(s)\n",
    "        s = s+1\n",
    "        length = len(primes)\n",
    "if primes[-1] > n:\n",
    "    primes = primes[:-1] # Check last entry in the list isn't bigger than n \n",
    "print(primes)\n",
    "\n",
    "# We now begin the task of checking decomposition of evens up to n\n",
    "\n",
    "m = 4\n",
    "\n",
    "while m <= n:\n",
    "    for p in primes:\n",
    "        if (m-p) in primes:\n",
    "            print m, \"=\", p, \"+\", (m-p)\n",
    "            break # This command breaks out of loop\n",
    "    m = m+2\n",
    "\n"
   ]
  },
  {
   "cell_type": "code",
   "execution_count": null,
   "metadata": {
    "collapsed": true
   },
   "outputs": [],
   "source": []
  }
 ],
 "metadata": {
  "kernelspec": {
   "display_name": "Python 2",
   "language": "python",
   "name": "python2"
  },
  "language_info": {
   "codemirror_mode": {
    "name": "ipython",
    "version": 2
   },
   "file_extension": ".py",
   "mimetype": "text/x-python",
   "name": "python",
   "nbconvert_exporter": "python",
   "pygments_lexer": "ipython2",
   "version": "2.7.10"
  }
 },
 "nbformat": 4,
 "nbformat_minor": 0
}
