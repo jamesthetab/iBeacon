{
 "cells": [
  {
   "cell_type": "markdown",
   "metadata": {},
   "source": [
    "# Introducing GeoCaching and Coding"
   ]
  },
  {
   "cell_type": "markdown",
   "metadata": {},
   "source": [
    "## A mathematical extension with JSC"
   ]
  },
  {
   "cell_type": "markdown",
   "metadata": {},
   "source": [
    "## 1. Introducing GeoCaches"
   ]
  },
  {
   "cell_type": "markdown",
   "metadata": {},
   "source": [
    "Geocaching is an outdoor recreational activity, in which participants use a Global Positioning System (GPS) receiver or mobile device and other navigational techniques to hide and seek containers, called \"geocaches\" or \"caches\", anywhere in the world.\n",
    "\n",
    "A typical cache is a small waterproof container containing a logbook (with a pen or pencil). The geocacher enters the date they found it and signs it with their established code name (I’m \"jamesthetab\"). \n",
    "\n",
    "After signing the log, the cache must be placed back exactly where the person found it. Larger containers such as plastic storage containers (Tupperware or similar) or ammunition boxes can also contain items for trading, usually toys or trinkets of little financial value, although sometimes they are sentimental. Geocaching shares many aspects with orienteering and treasure-hunting.\n",
    "\n",
    "If a geocache has been vandalized or stolen, it is said to have been \"muggled\". The former term plays off the fact that those not familiar with geocaching are called muggles, a term borrowed from the Harry Potter series of books which was rising in popularity at the same time geocaching got its start as GPS systems became affordable to the masses."
   ]
  },
  {
   "cell_type": "markdown",
   "metadata": {},
   "source": [
    "## 2. Why are we doing this in Math class?"
   ]
  },
  {
   "cell_type": "markdown",
   "metadata": {},
   "source": [
    "Because of a cool geek, “mjouk”, a Cambridge cacher who decided that rather than giving the GPS coordinates, he would pose a mathematical problem, which needs solving in order to pinpoint location.\n",
    "\n",
    "The puzzles “mjouk” uses are based on a series of coding challenges known as Project Euler, https://projecteuler.net/. You will see this GeoCache is based on the first challenge in P.E., https://projecteuler.net/problem=1\n",
    "\n",
    "We can approach these using either traditional mathematics or by introducing some code.\n"
   ]
  },
  {
   "cell_type": "markdown",
   "metadata": {},
   "source": [
    "## 3. What platform will we use?"
   ]
  },
  {
   "cell_type": "markdown",
   "metadata": {},
   "source": [
    "I am very excited by the possibilities of the Jupyter Project, which allows us to combine typeset mathematics with editable and executable code inside a browser."
   ]
  },
  {
   "cell_type": "markdown",
   "metadata": {},
   "source": [
    "## 4. What is the aim?"
   ]
  },
  {
   "cell_type": "markdown",
   "metadata": {},
   "source": [
    "Once we have worked through the puzzle, and got the coordinates, we can then use a GeoChecker to get a photograph of the exact place where the cache is stored. To achieve closure on this project I hope that students will enjoy finding the cache themselves and then sending me photographs of them with the cache – watch out for muggles!"
   ]
  },
  {
   "cell_type": "markdown",
   "metadata": {},
   "source": [
    "## 5. How do the co-ordinates work?"
   ]
  },
  {
   "cell_type": "markdown",
   "metadata": {},
   "source": [
    "The co-ordinates used in caching use the WGS84 Datum, and are of the form \n",
    "N 30° 24.867 W 097° 53.162 \n",
    "30 degrees, 24.867 minutes north of the Equator, and 97 degrees, 53.126 minutes west of the Grenwich Meridian (recall: a minute is $\\frac{1}{60}$-th of a degree).\n",
    "\n",
    "These are sometimes written in “decimal form” as 30.41445 -97.88603 (so North and East are positive).\n",
    "\n",
    "Your GPS device – handheld dedicated navigator, or mobile phone – will do all the hard work for you. The only thing to note is that the Easting  coordinates will be very small as we are near the Grenwich Meridian in Cambridge (it runs just to the West through Comberton) – less than one degree.\n"
   ]
  },
  {
   "cell_type": "markdown",
   "metadata": {},
   "source": [
    "## 6. Introducing the Puzzle"
   ]
  },
  {
   "cell_type": "markdown",
   "metadata": {},
   "source": [
    "We are going to attempt the first puzzle, http://www.geocaching.com/geocache/GC57DV8_project-euler-1\n",
    "\n",
    "This gives the coordinates as N 52° 12.??? E 000° 07.???. We need to find the questions marks and are given the following clue:\n",
    "If we list all the natural numbers below $10$ that are divisible by $3$ or $5$, we get $3, 5, 6, 9$. The sum of these multiples is $23$.\n",
    "\n",
    "Define $f(n)$ as the sum of the multiples of $3$ and $5$ which are less than $n$. Thus we can write:\n",
    "$$f(10) = 23$$.\n",
    "\n",
    "Calculate the coordinates using:\n",
    "$$N = f(4720) + f(240) + f(77),$$\n",
    "$$E = f(175) + f(10).$$\n"
   ]
  },
  {
   "cell_type": "markdown",
   "metadata": {},
   "source": [
    "## 7. Attacking the problem using traditional mathematics"
   ]
  },
  {
   "cell_type": "markdown",
   "metadata": {},
   "source": [
    "A few thoughts to share on how to calculate $f(n)$:\n",
    "1.\tWe need to find a way to add up all the multiples of $3$ less than $n$. \n",
    "2.\tAnd then add in all the multiples of $5$ less than $n$. \n",
    "3.\tThe problem is then that we might have counted some numbers twice, and as a correction we must subtract all the multiples of $15$.\n",
    "To do this we could use \n",
    "1.\tThe sum of an Arithmetic progression, $S_n = n(2a+(n-1)d)/2$.\n",
    "2.\tRealise that the sum of the first $n$ multiples of $3$ is just $3$ times the sum of the first $n$ natural numbers - $1,2,3,\\dots n$, familiar as triangular numbers, and there is a standard formula for these. \n",
    "3.\tAlternatively, you could read about Gauss’s trick for finding such a sum.\n"
   ]
  },
  {
   "cell_type": "markdown",
   "metadata": {},
   "source": [
    "## 8. Attacking the problem using coding"
   ]
  },
  {
   "cell_type": "markdown",
   "metadata": {},
   "source": [
    "The above ideas rely heavily on mathematics, but we can ask a computer to do all the hard work for us. This just requires us to use a counter (to work through all the numbers less than $n$), and an “if” statement to pick out which ones we should include. \n",
    "\n",
    "Before giving the structure of the code we need one bit of coding terminology. “a%3” calculates the remainder when $a$ is divided by $3$. Computers think in binary, 0s – False, and 1s – True. If we introduce an “if” statement, the computer only carries out the following task when the condition is true.\n",
    "\n",
    "For example:\n",
    "\n",
    "“If 4/2 == 2:” is a true statement and so the subsequent commands would be carried out.\n",
    "\n",
    "“If 1.5 > 17:” is false, and so what follows would be ignored.\n",
    "\n",
    "Notice that if $n$ is a multiple of $3$, then n%3 = 0, which is false, but not(n%3) = 1, true. \n",
    "\n",
    "Using these ideas see if you can follow the code below which adds up all the multiples of $3$ less than $n$:\n"
   ]
  },
  {
   "cell_type": "code",
   "execution_count": 4,
   "metadata": {
    "collapsed": false
   },
   "outputs": [
    {
     "name": "stdout",
     "output_type": "stream",
     "text": [
      "166833\n"
     ]
    }
   ],
   "source": [
    "n = 1000\n",
    "a= 1 #start checking numbers at 1\n",
    "summult=0 #the sum of multiples starts at zero\n",
    "while a< n: # check up to value of $n$\n",
    "    if not(a%3): # this “if” statement will only be executed when a is a multiple of 3\n",
    "        summult = summult + a # add on a to whatever the sum of the multiples already is\n",
    "    a = a + 1 # add one onto a to check the next number\n",
    "print(summult)\n"
   ]
  },
  {
   "cell_type": "markdown",
   "metadata": {},
   "source": [
    "This program will give us the sum of multiple of 3, and can easily be changed to accommodate multiple of 5, and then 15.\n",
    "Suppose we want to do everything at once:\n"
   ]
  },
  {
   "cell_type": "code",
   "execution_count": 5,
   "metadata": {
    "collapsed": false
   },
   "outputs": [
    {
     "name": "stdout",
     "output_type": "stream",
     "text": [
      "234168\n"
     ]
    }
   ],
   "source": [
    "n = 1000\n",
    "a= 1\n",
    "summult=0 \n",
    "while a< n:\n",
    "    if not(a%3):\n",
    "        summult = summult + a \n",
    "    elif not(a%5): # only include this mult of 5 if it has not already trigged a loop – “elif” or “else if”\n",
    "        summult = summult + a\n",
    "    a += 1\n",
    "print(summult)\n"
   ]
  },
  {
   "cell_type": "markdown",
   "metadata": {},
   "source": [
    "Perhaps you would like to use this code to generate the coordinates, and check using the GeoChecker at the bottom of the page (you will have to create a login for this).\n",
    "If you manage to generate the correct coordinates please email them through to me, or better still go ahead and find and sign the GeoCache – I’d love to see some photos of you guys at the cache.\n",
    "\n",
    "Happy hunting,\n",
    "JSC\n"
   ]
  }
 ],
 "metadata": {
  "kernelspec": {
   "display_name": "Python 3",
   "language": "python",
   "name": "python3"
  },
  "language_info": {
   "codemirror_mode": {
    "name": "ipython",
    "version": 3
   },
   "file_extension": ".py",
   "mimetype": "text/x-python",
   "name": "python",
   "nbconvert_exporter": "python",
   "pygments_lexer": "ipython3",
   "version": "3.4.3"
  }
 },
 "nbformat": 4,
 "nbformat_minor": 0
}
