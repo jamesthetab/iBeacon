{
 "cells": [
  {
   "cell_type": "markdown",
   "metadata": {},
   "source": [
    "#The Aliquot Sequence and Social Numbers\n",
    "\n",
    "Sociable numbers are numbers whose aliquot sums (repeatedly taking the mapping to the sum of proper factors) form a cyclic sequence that begins and ends with the same number. They are generalizations of the concepts of Amicable numbers and Perfect numbers. Where Perfect numbers are fixed points under this mapping, and Amicable numbers give an alternating pair.\n",
    "\n",
    "The first two sociable sequences, or sociable chains, were discovered and named by the Belgian mathematician Paul Poulet in 1918. For the sequence to be sociable, the sequence must be cyclic and return to its starting point.\n",
    "\n",
    "The period of the sequence, or order of the set of sociable numbers, is the number of numbers in this cycle - thus Perfect numbers are period $1$, and Amicable numbers period $2$.\n",
    "\n",
    "$6\\rightarrow 6 \\rightarrow 6\\rightarrow 6\\rightarrow \\dots$ has period one.\n",
    "\n",
    "$220\\rightarrow 284 \\rightarrow 220\\rightarrow 284\\rightarrow \\dots$ has period two.\n",
    "\n",
    "It is an open question whether all numbers end up at either a sociable number or at a prime (and hence 1), or, equivalently, whether there exist numbers whose aliquot sequence never terminates, and hence grows without bound.}\n",
    "\n",
    "## Social Numbers of Period 4\n",
    "\n",
    "We can adapt our code from before to search for sociable numbers of Period 4:"
   ]
  },
  {
   "cell_type": "code",
   "execution_count": 4,
   "metadata": {
    "collapsed": false
   },
   "outputs": [
    {
     "name": "stdout",
     "output_type": "stream",
     "text": [
      "(1264460, 1547860, 1727636, 1305184)\n"
     ]
    }
   ],
   "source": [
    "def sumf(x):\n",
    " return sum([n for n in xrange(1,x) if x % n == 0])\n",
    "\n",
    "i=1264459 #start point based on knowing roughly where the 4-cycle lives, else much more computing power needed!\n",
    "while i<1264461:\n",
    "   if sumf(sumf(sumf(sumf(i))))==i:\n",
    "       print((i, sumf(i),sumf(sumf(i)),(sumf(sumf(sumf(i))))))\n",
    "       #displays the 4-cycle\n",
    "   i = i+1"
   ]
  },
  {
   "cell_type": "markdown",
   "metadata": {},
   "source": [
    "## Other Social Numbers\n",
    "\n",
    "$\\begin{eqnarray} \n",
    "\\textbf{Sequence length} &\\,\\,\\,\\,& \\textbf{Number of known sequences}\\\\\n",
    "\\text{(Perfect number) }1 & & 49\\\\\n",
    "\\text{(Amicable) }2 & & 15,674,225\\\\\n",
    "4&&366\\\\\n",
    "5&&1\\\\\n",
    "6&&5\\\\\n",
    "8&&4\\\\\n",
    "9&&1\\\\\n",
    "28&&1\\end{eqnarray}$\n"
   ]
  },
  {
   "cell_type": "markdown",
   "metadata": {},
   "source": [
    "Two things strike me looking at this chart. \n",
    "\n",
    "Firstly, I am suprised by how common Amicable pairs are. \n",
    "\n",
    "Secondly, it strikes me as very odd that there are no known social triples - social cycles of period $3$. Of course this does not mean that there aren't any, just that none have been found yet. A huge amount of number crunching must be going on here to find $15,000,000$ pairs, but that is not very far in checking all numbers. We start with $\\infty$ cases to check, after $100$ cases we have $\\infty-100 = \\infty$ cases to check, and after a $15,000,000$ cases we have $\\infty - 15,000,000 = \\infty$ cases yet to check - we've not got very far. Our finite intuition makes us feel it's very unlikely that there is a $3$-cycle out there, but that is not based on probability! However, if we could understand the reasons why a $3$-cycle is impossible and present this in a proof then we would have simultaneously checked and dismissed all the potential $3$-cycles simultaneously."
   ]
  }
 ],
 "metadata": {
  "kernelspec": {
   "display_name": "Python 2",
   "language": "python",
   "name": "python2"
  },
  "language_info": {
   "codemirror_mode": {
    "name": "ipython",
    "version": 2
   },
   "file_extension": ".py",
   "mimetype": "text/x-python",
   "name": "python",
   "nbconvert_exporter": "python",
   "pygments_lexer": "ipython2",
   "version": "2.7.10"
  }
 },
 "nbformat": 4,
 "nbformat_minor": 0
}
