{
 "cells": [
  {
   "cell_type": "markdown",
   "metadata": {},
   "source": [
    "Congruent number problem\n",
    "-------------\n",
    "\n",
    "The [congruent number problem](http://www.math.uconn.edu/~kconrad/blurbs/ugradnumthy/congnumber.pdf) is ancient and asks which positive integers can be the area of a right triangle with all three sides rational. The problem can be approached by rephrasing in terms of rational points on a special family of Elliptic Curves. This allows us to use the machinery of the addition of points on ECs, and also connect to modular forms and finally to Tunnell's Theorem which relates this to the number of integral solutions of a few fairly simple Diophantine equations.\n",
    "\n",
    "Theorem\n",
    "--------\n",
    "\n",
    "For a given square-free integer n, define\n",
    "\n",
    "\\begin{matrix}A_{n}&=&\\#\\{(x,y,z)\\in {\\mathbb  {Z}}^{3}|n=2x^{2}+y^{2}+32z^{2}\\}\\\\B_{n}&=&\\#\\{(x,y,z)\\in {\\mathbb  {Z}}^{3}|n=2x^{2}+y^{2}+8z^{2}\\}\\quad \\\\C_{n}&=&\\#\\{(x,y,z)\\in {\\mathbb  {Z}}^{3}|n=8x^{2}+2y^{2}+64z^{2}\\}\\\\D_{n}&=&\\#\\{(x,y,z)\\in {\\mathbb  {Z}}^{3}|n=8x^{2}+2y^{2}+16z^{2}\\}.\\end{matrix}\n",
    "\n",
    "\n",
    "Tunnell's theorem states that supposing n is a congruent number,\n",
    "\n",
    "if n is odd then $$2A_n = B_n$$ and if n is even then $$2C_n = D_n$$. \n",
    "\n",
    "Conversely, if the Birch and Swinnerton-Dyer conjecture holds true for elliptic curves of the form \n",
    "\n",
    "$$y^2 = x^3 − n^2x$$ these equalities are sufficient to conclude that n is a congruent number.\n",
    "\n",
    "Code\n",
    "----------\n",
    "\n",
    "In this notebook I begin by counting solutions using a simple bound, and then generate square-free congruent numbers. Finally, I throw the squares back in to generate all congruent numbers up to a given bound as ```allcong(-)```."
   ]
  },
  {
   "cell_type": "code",
   "execution_count": 36,
   "metadata": {
    "collapsed": false
   },
   "outputs": [
    {
     "data": {
      "text/plain": [
       "6"
      ]
     },
     "execution_count": 36,
     "metadata": {},
     "output_type": "execute_result"
    }
   ],
   "source": [
    "import math\n",
    "def number_of_sols(a, b, c, n): #Solves n = ax^2+by^2+cZ^2\n",
    "    count = 0\n",
    "    maxx = int((math.sqrt(n/a))) #int naturally takes floor\n",
    "    maxy = int((math.sqrt(n/b))) #everything positive so \n",
    "    maxz = int((math.sqrt(n/c))) #quick bounds such as y^2<n/a...\n",
    "    for x in range(-maxx,maxx+1):\n",
    "        for y in range(-maxy,maxy+1):\n",
    "            for z in range(-maxz,maxz+1):\n",
    "                if n == a*x*x+b*y*y+c*z*z:\n",
    "                    count = count+1\n",
    "    return count\n",
    "number_of_sols(1,1,1,1)"
   ]
  },
  {
   "cell_type": "code",
   "execution_count": 39,
   "metadata": {
    "collapsed": false
   },
   "outputs": [],
   "source": [
    "def An(n):\n",
    "    return number_of_sols(2,1,32,n)\n",
    "def Bn(n):\n",
    "    return number_of_sols(2,1,8,n)\n",
    "def Cn(n):\n",
    "    return number_of_sols(8,2,64,n)\n",
    "def Dn(n):\n",
    "    return number_of_sols(8,2,16,n)\n",
    "\n",
    "################################################\n",
    "#The following ONLY WORKS WHEN n IS SQUARE-FREE#\n",
    "################################################\n",
    "\n",
    "def OddCong(n):\n",
    "    return 2*An(n)==Bn(n)\n",
    "def EvenCong(n):\n",
    "    return 2*Cn(n)==Dn(n)"
   ]
  },
  {
   "cell_type": "code",
   "execution_count": 34,
   "metadata": {
    "collapsed": false
   },
   "outputs": [
    {
     "data": {
      "text/plain": [
       "False"
      ]
     },
     "execution_count": 34,
     "metadata": {},
     "output_type": "execute_result"
    }
   ],
   "source": [
    "def prime_factors(n):\n",
    "    i = 2\n",
    "    factors = []\n",
    "    while i * i <= n:\n",
    "        if n % i:\n",
    "            i += 1\n",
    "        else:\n",
    "            n //= i\n",
    "            factors.append(i)\n",
    "    if n > 1:\n",
    "        factors.append(n)\n",
    "    return factors\n",
    "prime_factors(100)\n",
    "\n",
    "# set() removes duplicates\n",
    "\n",
    "len(prime_factors(100)) == len(set(prime_factors(100)))\n",
    "\n",
    "# Tests for unique prime factors (square free) by \n",
    "# seeing if the full list of prime factors agrees \n",
    "# with the list as a set (when repetition is removed)."
   ]
  },
  {
   "cell_type": "code",
   "execution_count": 40,
   "metadata": {
    "collapsed": false
   },
   "outputs": [
    {
     "name": "stdout",
     "output_type": "stream",
     "text": [
      "The following are the square-free numbers up to 100 which are Congruent: [5, 6, 7, 13, 14, 15, 21, 22, 23, 29, 30, 31, 34, 37, 38, 39, 41, 46, 47, 53, 55, 61, 62, 65, 69, 70, 71, 77, 78, 79, 85, 86, 87, 93, 94, 95]\n"
     ]
    }
   ],
   "source": [
    "def squarefreecong(p):\n",
    "    listsqfrcong =[]\n",
    "    upto = p\n",
    "    for n in range(1,upto+1):\n",
    "        if len(prime_factors(n)) == len(set(prime_factors(n))): #Only proceed if square-free\n",
    "            if n%2 != 0: #Odd\n",
    "                if OddCong(n) == 1:\n",
    "                    listsqfrcong.append(n)\n",
    "            if n%2 == 0: #Even\n",
    "                if EvenCong(n) == 1:\n",
    "                    listsqfrcong.append(n)\n",
    "    return listsqfrcong\n",
    "\n",
    "print'The following are the square-free numbers up to 100 which are Congruent:', squarefreecong(100)"
   ]
  },
  {
   "cell_type": "markdown",
   "metadata": {},
   "source": [
    "These are known as [primitive congruent numbers](https://oeis.org/A006991). "
   ]
  },
  {
   "cell_type": "markdown",
   "metadata": {},
   "source": [
    "If I now wish to generate all congruent numbers I look at the squares up to p and then multiply sets before truncating at p."
   ]
  },
  {
   "cell_type": "code",
   "execution_count": 41,
   "metadata": {
    "collapsed": false
   },
   "outputs": [
    {
     "data": {
      "text/plain": [
       "[1, 4, 9, 16, 25, 36, 49, 64, 81]"
      ]
     },
     "execution_count": 41,
     "metadata": {},
     "output_type": "execute_result"
    }
   ],
   "source": [
    "def squaresupperlim(q):\n",
    "    list =[]\n",
    "    for n in range(1, int(math.sqrt(q))+1):\n",
    "        list.append(n*n)\n",
    "    return list\n",
    "\n",
    "squaresupperlim(85) #As an example"
   ]
  },
  {
   "cell_type": "code",
   "execution_count": 42,
   "metadata": {
    "collapsed": false
   },
   "outputs": [
    {
     "name": "stdout",
     "output_type": "stream",
     "text": [
      "[5, 6, 7, 13, 14, 15, 20, 21, 22, 23, 24, 28, 29, 30, 31, 34, 37, 38, 39, 41, 45, 46, 47, 52, 53, 54, 55, 56, 60, 61, 62, 63, 65, 69, 70, 71, 77, 78, 79, 80, 84, 85, 86, 87, 88, 92, 93, 94, 95, 96, 101, 102, 103, 109, 110, 111, 112, 116, 117, 118, 119, 120, 124, 125, 126]\n"
     ]
    }
   ],
   "source": [
    "def allcong(n):\n",
    "    conglist=[]\n",
    "    for a in squarefreecong(n):\n",
    "        for b in squaresupperlim(n):\n",
    "            conglist.append(a*b)\n",
    "    finallist=[]\n",
    "    for c in conglist:\n",
    "        if c <= n:\n",
    "            finallist.append(c)\n",
    "    return sorted(finallist)\n",
    "print(allcong(126))\n",
    "                "
   ]
  },
  {
   "cell_type": "markdown",
   "metadata": {},
   "source": [
    "Compared with downloaded list from OEIS:"
   ]
  },
  {
   "cell_type": "code",
   "execution_count": 43,
   "metadata": {
    "collapsed": true
   },
   "outputs": [],
   "source": [
    "CongruentData = [5,6,7,13,14,15,20,21,22,23,24,28,29,30,31,34,37,\n",
    " 38,39,41,45,46,47,52,53,54,55,56,60,61,62,63,65,\n",
    " 69,70,71,77,78,79,80,84,85,86,87,88,92,93,94,95,\n",
    " 96,101,102,103,109,110,111,112,116,117,118,119,\n",
    " 120,124,125,126]"
   ]
  },
  {
   "cell_type": "code",
   "execution_count": 44,
   "metadata": {
    "collapsed": false
   },
   "outputs": [
    {
     "data": {
      "text/plain": [
       "True"
      ]
     },
     "execution_count": 44,
     "metadata": {},
     "output_type": "execute_result"
    }
   ],
   "source": [
    "CongruentData == allcong(126)"
   ]
  },
  {
   "cell_type": "markdown",
   "metadata": {},
   "source": [
    "A deep problem (proving that n=1 is not congruent is equivant to the cubic case of FLT using an infinite descent arguemt...) is reduced to quick calculation :-)"
   ]
  },
  {
   "cell_type": "code",
   "execution_count": null,
   "metadata": {
    "collapsed": true
   },
   "outputs": [],
   "source": []
  }
 ],
 "metadata": {
  "kernelspec": {
   "display_name": "Python 2",
   "language": "python",
   "name": "python2"
  },
  "language_info": {
   "codemirror_mode": {
    "name": "ipython",
    "version": 2
   },
   "file_extension": ".py",
   "mimetype": "text/x-python",
   "name": "python",
   "nbconvert_exporter": "python",
   "pygments_lexer": "ipython2",
   "version": "2.7.11"
  }
 },
 "nbformat": 4,
 "nbformat_minor": 0
}
